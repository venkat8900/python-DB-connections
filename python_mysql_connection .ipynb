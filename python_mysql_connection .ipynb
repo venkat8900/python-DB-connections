{
 "cells": [
  {
   "cell_type": "code",
   "execution_count": 1,
   "metadata": {},
   "outputs": [],
   "source": [
    "# impot libraries for connection\n",
    "import mysql.connector as connection"
   ]
  },
  {
   "cell_type": "code",
   "execution_count": 6,
   "metadata": {},
   "outputs": [
    {
     "name": "stdout",
     "output_type": "stream",
     "text": [
      "True\n"
     ]
    }
   ],
   "source": [
    "# checking for connection\n",
    "\n",
    "mydb = connection.connect(host=\"localhost\", user=\"root\", passwd=\"1236\",use_pure=True)\n",
    "print(mydb.is_connected())"
   ]
  },
  {
   "cell_type": "code",
   "execution_count": 3,
   "metadata": {},
   "outputs": [
    {
     "name": "stdout",
     "output_type": "stream",
     "text": [
      "[('information_schema',), ('mysql',), ('performance_schema',), ('sakila',), ('sys',), ('world',)]\n"
     ]
    }
   ],
   "source": [
    "query = \"SHOW DATABASES\" # input query\n",
    "\n",
    "cursor = mydb.cursor() #create a cursor to execute queries\n",
    "cursor.execute(query) # executing a query\n",
    "print(cursor.fetchall())"
   ]
  },
  {
   "cell_type": "code",
   "execution_count": null,
   "metadata": {},
   "outputs": [],
   "source": [
    "# creating a new database\n",
    "\n",
    "query = \"Create database Student;\"\n",
    "cursor = mydb.cursor() #create a cursor to execute queries\n",
    "cursor.execute(query)\n",
    "print(\"Database Student Created!!\")"
   ]
  },
  {
   "cell_type": "code",
   "execution_count": 8,
   "metadata": {},
   "outputs": [
    {
     "name": "stdout",
     "output_type": "stream",
     "text": [
      "[('information_schema',), ('mysql',), ('performance_schema',), ('sakila',), ('student',), ('sys',), ('world',)]\n"
     ]
    }
   ],
   "source": [
    "query = \"SHOW DATABASES\" # input query\n",
    "\n",
    "cursor = mydb.cursor() #create a cursor to execute queries\n",
    "cursor.execute(query) # executing a query\n",
    "print(cursor.fetchall())"
   ]
  },
  {
   "cell_type": "code",
   "execution_count": 12,
   "metadata": {},
   "outputs": [
    {
     "name": "stdout",
     "output_type": "stream",
     "text": [
      "Table Created!!\n"
     ]
    }
   ],
   "source": [
    "# creating tables in DB\n",
    "mydb = connection.connect(host=\"localhost\", database = 'Student',user=\"root\", passwd=\"1236\",use_pure=True)\n",
    "\n",
    "query = \"CREATE TABLE StudentDetails (Studentid INT(10) AUTO_INCREMENT PRIMARY KEY,FirstName VARCHAR(60),\" \\\n",
    "            \"LastName VARCHAR(60), RegistrationDate DATE,Class Varchar(20), Section Varchar(10))\"\n",
    "\n",
    "cursor = mydb.cursor() #create a cursor to execute queries\n",
    "cursor.execute(query)\n",
    "print(\"Table Created!!\")"
   ]
  },
  {
   "cell_type": "code",
   "execution_count": 13,
   "metadata": {},
   "outputs": [
    {
     "name": "stdout",
     "output_type": "stream",
     "text": [
      "Values inserted into the table!!\n"
     ]
    }
   ],
   "source": [
    "# insert details into the table\n",
    "\n",
    "query = \"INSERT INTO StudentDetails VALUES ('100','Venkat','M','1997-11-11','Eleventh','A')\"\n",
    "\n",
    "cursor = mydb.cursor() #create a cursor to execute queries\n",
    "cursor.execute(query)\n",
    "print(\"Values inserted into the table!!\")\n",
    "mydb.commit()"
   ]
  },
  {
   "cell_type": "code",
   "execution_count": 16,
   "metadata": {},
   "outputs": [
    {
     "name": "stdout",
     "output_type": "stream",
     "text": [
      "(100, 'Kumar', 'Gaurav', datetime.date(1997, 11, 11), 'Eleventh', 'A')\n"
     ]
    }
   ],
   "source": [
    "# update details in db\n",
    "\n",
    "query = \"UPDATE Studentdetails SET FirstName = 'Kumar', LastName = 'Gaurav' WHERE Studentid = 100\"\n",
    "cursor = mydb.cursor()  # create a cursor to execute queries\n",
    "cursor.execute(query)\n",
    "mydb.commit()\n",
    "\n",
    "#let's check if the value is updated in the table.\n",
    "query = \"Select * from StudentDetails where Studentid=100;\"\n",
    "cursor = mydb.cursor()  # create a cursor to execute queries\n",
    "cursor.execute(query)\n",
    "for result in cursor.fetchall():\n",
    "    print(result)\n",
    "mydb.close()"
   ]
  },
  {
   "cell_type": "code",
   "execution_count": 25,
   "metadata": {},
   "outputs": [
    {
     "name": "stdout",
     "output_type": "stream",
     "text": [
      "True\n"
     ]
    }
   ],
   "source": [
    "    mydb = connection.connect(host=\"localhost\", database='Student', user=\"root\", passwd=\"1236\", use_pure=True)\n",
    "    # check if the connection is established\n",
    "    print(mydb.is_connected())\n",
    "    query = \"DELETE FROM StudentDetails WHERE Studentid = 100\"\n",
    "    cursor = mydb.cursor()  # create a cursor to execute queries\n",
    "    cursor.execute(query)\n",
    "    mydb.commit()\n",
    "\n",
    "    #let's check if the value is updated in the table.\n",
    "    query = \"Select * from StudentDetails where Studentid=100;\"\n",
    "    cursor = mydb.cursor()  # create a cursor to execute queries\n",
    "    cursor.execute(query)\n",
    "    for result in cursor.fetchall():\n",
    "        print(result)\n",
    "\n",
    "    mydb.close() "
   ]
  },
  {
   "cell_type": "code",
   "execution_count": 22,
   "metadata": {},
   "outputs": [
    {
     "name": "stdout",
     "output_type": "stream",
     "text": [
      "Database GlassData Created!!\n"
     ]
    }
   ],
   "source": [
    "# creating a new database\n",
    "mydb = connection.connect(host=\"localhost\", user=\"root\", passwd=\"1236\",use_pure=True)\n",
    "query = \"Create database GlassData;\"\n",
    "cursor = mydb.cursor() #create a cursor to execute queries\n",
    "cursor.execute(query)\n",
    "print(\"Database GlassData Created!!\")"
   ]
  },
  {
   "cell_type": "code",
   "execution_count": 26,
   "metadata": {},
   "outputs": [
    {
     "name": "stdout",
     "output_type": "stream",
     "text": [
      "Table Created!!\n"
     ]
    }
   ],
   "source": [
    "mydb = connection.connect(host=\"localhost\", database = 'GlassData',user=\"root\", passwd=\"1236\",use_pure=True)\n",
    "#check if the connection is established\n",
    "query = \"CREATE TABLE IF NOT EXISTS GlassData (Index_Number INT(10),RI float(10,5), Na float(10,5), Mg float(10,5),Al float(10,5),\" \\\n",
    "            \" Si float(10,5), K float(10,5), Ca float(10,5), Ba float(10,5), Fe float(10,5), Class INT(5))\"\n",
    "cursor = mydb.cursor()  # create a cursor to execute queries\n",
    "cursor.execute(query)\n",
    "print(\"Table Created!!\")"
   ]
  },
  {
   "cell_type": "code",
   "execution_count": 28,
   "metadata": {},
   "outputs": [],
   "source": [
    "import pandas as pandas\n",
    "import csv"
   ]
  },
  {
   "cell_type": "code",
   "execution_count": 29,
   "metadata": {},
   "outputs": [
    {
     "name": "stdout",
     "output_type": "stream",
     "text": [
      "Values inserted!!\n"
     ]
    }
   ],
   "source": [
    "    #read glassdata from the local file\n",
    "    with open('glass.data', \"r\") as f:\n",
    "        next(f)\n",
    "        glass_data = csv.reader(f, delimiter=\"\\n\")\n",
    "        for line in enumerate(glass_data):\n",
    "            for list_ in (line[1]): #loop through every line in the dataset\n",
    "                cursor.execute('INSERT INTO GlassData values ({values})'.format(values=(list_)))\n",
    "    print(\"Values inserted!!\")\n",
    "    mydb.commit()\n",
    "    cursor.close()\n",
    "    mydb.close()"
   ]
  },
  {
   "cell_type": "code",
   "execution_count": null,
   "metadata": {},
   "outputs": [],
   "source": []
  }
 ],
 "metadata": {
  "kernelspec": {
   "display_name": "Python 3",
   "language": "python",
   "name": "python3"
  },
  "language_info": {
   "codemirror_mode": {
    "name": "ipython",
    "version": 3
   },
   "file_extension": ".py",
   "mimetype": "text/x-python",
   "name": "python",
   "nbconvert_exporter": "python",
   "pygments_lexer": "ipython3",
   "version": "3.7.3"
  }
 },
 "nbformat": 4,
 "nbformat_minor": 2
}
